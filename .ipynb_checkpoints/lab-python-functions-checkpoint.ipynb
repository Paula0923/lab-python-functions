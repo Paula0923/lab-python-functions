{
 "cells": [
  {
   "cell_type": "markdown",
   "id": "25d7736c-ba17-4aff-b6bb-66eba20fbf4e",
   "metadata": {},
   "source": [
    "# Lab | Functions"
   ]
  },
  {
   "cell_type": "markdown",
   "id": "0c581062-8967-4d93-b06e-62833222f930",
   "metadata": {
    "tags": []
   },
   "source": [
    "## Exercise: Managing Customer Orders with Functions\n",
    "\n",
    "In the previous exercise, you improved the code for managing customer orders by using loops and flow control. Now, let's take it a step further and refactor the code by introducing functions.\n",
    "\n",
    "Follow the steps below to complete the exercise:\n",
    "\n",
    "1. Define a function named `initialize_inventory` that takes `products` as a parameter. Inside the function, implement the code for initializing the inventory dictionary using a loop and user input.\n",
    "\n",
    "2. Define a function named `get_customer_orders` that takes no parameters. Inside the function, implement the code for prompting the user to enter the product names using a loop. The function should return the `customer_orders` set.\n",
    "\n",
    "3. Define a function named `update_inventory` that takes `customer_orders` and `inventory` as parameters. Inside the function, implement the code for updating the inventory dictionary based on the customer orders.\n",
    "\n",
    "4. Define a function named `calculate_order_statistics` that takes `customer_orders` and `products` as parameters. Inside the function, implement the code for calculating the order statistics (total products ordered, and percentage of unique products ordered). The function should return these values.\n",
    "\n",
    "5. Define a function named `print_order_statistics` that takes `order_statistics` as a parameter. Inside the function, implement the code for printing the order statistics.\n",
    "\n",
    "6. Define a function named `print_updated_inventory` that takes `inventory` as a parameter. Inside the function, implement the code for printing the updated inventory.\n",
    "\n",
    "7. Call the functions in the appropriate sequence to execute the program and manage customer orders.\n",
    "\n",
    "Hints for functions:\n",
    "\n",
    "- Consider the input parameters required for each function and their return values.\n",
    "- Utilize function parameters and return values to transfer data between functions.\n",
    "- Test your functions individually to ensure they work correctly.\n",
    "\n",
    "\n"
   ]
  },
  {
   "cell_type": "code",
   "execution_count": null,
   "id": "6d89c3de-02d2-43e5-b420-f4e6a4a3e70e",
   "metadata": {},
   "outputs": [],
   "source": [
    "# Exercise 1"
   ]
  },
  {
   "cell_type": "code",
   "execution_count": 265,
   "id": "c74d1c62-7e53-4070-b7bf-d0149f690083",
   "metadata": {},
   "outputs": [],
   "source": [
    "def initialize_inventory(products):\n",
    "    inventory = {}\n",
    "    products_list = []\n",
    "    for i in products:\n",
    "        quantity = int(input(f\"How many {i}s are in stock? Please enter an integer: \")) \n",
    "        inventory[i] = quantity\n",
    "        products_list.append(i)\n",
    "    return inventory, products_list"
   ]
  },
  {
   "cell_type": "code",
   "execution_count": 267,
   "id": "24971364-b605-4492-b7ab-a934ad1f8319",
   "metadata": {},
   "outputs": [
    {
     "name": "stdin",
     "output_type": "stream",
     "text": [
      "How many t-shirts are in stock? Please enter an integer:  5\n",
      "How many mugs are in stock? Please enter an integer:  5\n",
      "How many hats are in stock? Please enter an integer:  5\n",
      "How many books are in stock? Please enter an integer:  5\n",
      "How many keychains are in stock? Please enter an integer:  5\n"
     ]
    },
    {
     "data": {
      "text/plain": [
       "({'t-shirt': 5, 'mug': 5, 'hat': 5, 'book': 5, 'keychain': 5},\n",
       " ['t-shirt', 'mug', 'hat', 'book', 'keychain'])"
      ]
     },
     "execution_count": 267,
     "metadata": {},
     "output_type": "execute_result"
    }
   ],
   "source": [
    "products = [\"t-shirt\", \"mug\", \"hat\", \"book\", \"keychain\"]\n",
    "initialize_inventory(products)"
   ]
  },
  {
   "cell_type": "code",
   "execution_count": null,
   "id": "9afb4f37-27ea-4a74-af92-77273d5138a9",
   "metadata": {},
   "outputs": [],
   "source": [
    "# Exercise 2:"
   ]
  },
  {
   "cell_type": "code",
   "execution_count": 269,
   "id": "c6d43db1-df17-412a-b55c-e4c3551d51e3",
   "metadata": {},
   "outputs": [
    {
     "name": "stdin",
     "output_type": "stream",
     "text": [
      "How many t-shirts are in stock? Please enter an integer:  5\n",
      "How many mugs are in stock? Please enter an integer:  5\n",
      "How many hats are in stock? Please enter an integer:  5\n",
      "How many books are in stock? Please enter an integer:  5\n",
      "How many keychains are in stock? Please enter an integer:  5\n"
     ]
    }
   ],
   "source": [
    "inventory, products_list = initialize_inventory(products)\n",
    "\n",
    "def get_customer_orders():\n",
    "    customer_orders = set()\n",
    "    while len(customer_orders) < 3:\n",
    "        order = input(f\"Input the name of a product you would like to order from this list:\\n{products_list}\")\n",
    "        if order in inventory:\n",
    "            customer_orders.add(order)\n",
    "            inventory[order] -= 1\n",
    "        else:\n",
    "            print(\"This item is not available\")\n",
    "    return customer_orders, inventory"
   ]
  },
  {
   "cell_type": "code",
   "execution_count": 271,
   "id": "85ad361c-3ad2-4874-b682-5abe7d9d93b0",
   "metadata": {},
   "outputs": [
    {
     "name": "stdin",
     "output_type": "stream",
     "text": [
      "Input the name of a product you would like to order from this list:\n",
      "['t-shirt', 'mug', 'hat', 'book', 'keychain'] t-shirt\n",
      "Input the name of a product you would like to order from this list:\n",
      "['t-shirt', 'mug', 'hat', 'book', 'keychain'] mug\n",
      "Input the name of a product you would like to order from this list:\n",
      "['t-shirt', 'mug', 'hat', 'book', 'keychain'] hat\n"
     ]
    },
    {
     "data": {
      "text/plain": [
       "({'hat', 'mug', 't-shirt'},\n",
       " {'t-shirt': 4, 'mug': 4, 'hat': 4, 'book': 5, 'keychain': 5})"
      ]
     },
     "execution_count": 271,
     "metadata": {},
     "output_type": "execute_result"
    }
   ],
   "source": [
    "get_customer_orders()"
   ]
  },
  {
   "cell_type": "code",
   "execution_count": null,
   "id": "07c6fe23-b789-49ce-8517-3d7fc8a9ed0b",
   "metadata": {},
   "outputs": [],
   "source": [
    "# Exercise 3: Define a function named update_inventory that takes customer_orders and inventory as parameters.\n",
    "# Inside the function, implement the code for updating the inventory dictionary based on the customer orders."
   ]
  },
  {
   "cell_type": "code",
   "execution_count": 275,
   "id": "fca361f4-d0e4-4888-8ec6-20f5b3ad0d43",
   "metadata": {},
   "outputs": [
    {
     "name": "stdin",
     "output_type": "stream",
     "text": [
      "How many t-shirts are in stock? Please enter an integer:  5\n",
      "How many mugs are in stock? Please enter an integer:  5\n",
      "How many hats are in stock? Please enter an integer:  5\n",
      "How many books are in stock? Please enter an integer:  5\n",
      "How many keychains are in stock? Please enter an integer:  5\n",
      "Input the name of a product you would like to order from this list:\n",
      "['t-shirt', 'mug', 'hat', 'book', 'keychain'] t-shirt\n",
      "Input the name of a product you would like to order from this list:\n",
      "['t-shirt', 'mug', 'hat', 'book', 'keychain'] mug\n",
      "Input the name of a product you would like to order from this list:\n",
      "['t-shirt', 'mug', 'hat', 'book', 'keychain'] hat\n"
     ]
    }
   ],
   "source": [
    "inventory, products_list = initialize_inventory(products)\n",
    "customer_orders, inventory = get_customer_orders()\n",
    "\n",
    "def update_inventory(customer_orders, inventory_update_1):\n",
    "    order_new = input(f\"Please choose the product you want to order from this list: {products_list}\")\n",
    "    if order_new in inventory:\n",
    "        customer_orders_update_1 = customer_orders.add(order_new)\n",
    "        inventory[order_new] -= 1\n",
    "    else:\n",
    "        print(\"The item is not available\")\n",
    "    return customer_orders_update_1, inventory"
   ]
  },
  {
   "cell_type": "code",
   "execution_count": 277,
   "id": "e77844f7-e620-4d0f-8d6c-9ce48e7114c9",
   "metadata": {},
   "outputs": [
    {
     "name": "stdin",
     "output_type": "stream",
     "text": [
      "Please choose the product you want to order from this list: ['t-shirt', 'mug', 'hat', 'book', 'keychain'] book\n"
     ]
    },
    {
     "data": {
      "text/plain": [
       "(None, {'t-shirt': 4, 'mug': 4, 'hat': 4, 'book': 4, 'keychain': 5})"
      ]
     },
     "execution_count": 277,
     "metadata": {},
     "output_type": "execute_result"
    }
   ],
   "source": [
    "update_inventory(customer_orders, inventory)"
   ]
  },
  {
   "cell_type": "code",
   "execution_count": null,
   "id": "589c37e8-2853-4886-9853-42e60a47f2c4",
   "metadata": {},
   "outputs": [],
   "source": [
    "# Exercise 4: Define a function named calculate_order_statistics that takes customer_orders and products as parameters.\n",
    "# Inside the function, implement the code for calculating the order statistics (total products ordered, and percentage of unique products ordered).\n",
    "# The function should return these values."
   ]
  },
  {
   "cell_type": "code",
   "execution_count": 279,
   "id": "43580f15-bfd8-451d-bc1c-65f06e590641",
   "metadata": {},
   "outputs": [
    {
     "name": "stdin",
     "output_type": "stream",
     "text": [
      "How many t-shirts are in stock? Please enter an integer:  5\n",
      "How many mugs are in stock? Please enter an integer:  5\n",
      "How many hats are in stock? Please enter an integer:  5\n",
      "How many books are in stock? Please enter an integer:  5\n",
      "How many keychains are in stock? Please enter an integer:  5\n",
      "Please choose the product you want to order from this list: ['t-shirt', 'mug', 'hat', 'book', 'keychain'] t-shirt\n"
     ]
    }
   ],
   "source": [
    "inventory, products_list = initialize_inventory(products)\n",
    "customer_orders_updated = update_inventory(customer_orders, inventory)\n",
    "\n",
    "def calculate_order_statistics(customer_orders_updated, products):\n",
    "    total_products_ordered = len(customer_orders)\n",
    "    return total_products_ordered"
   ]
  },
  {
   "cell_type": "code",
   "execution_count": 247,
   "id": "a5a0bed6-7f03-4157-8e0c-b3a67f001f91",
   "metadata": {},
   "outputs": [
    {
     "data": {
      "text/plain": [
       "4"
      ]
     },
     "execution_count": 247,
     "metadata": {},
     "output_type": "execute_result"
    }
   ],
   "source": [
    "calculate_order_statistics(customer_orders_updated, products)"
   ]
  },
  {
   "cell_type": "code",
   "execution_count": null,
   "id": "681ff716-9e04-4559-9237-5a08b8307fd6",
   "metadata": {},
   "outputs": [],
   "source": [
    "# Exercise 5: Define a function named print_order_statistics that takes order_statistics as a parameter.\n",
    "# Inside the function, implement the code for printing the order statistics."
   ]
  },
  {
   "cell_type": "code",
   "execution_count": 281,
   "id": "cf38cf3f-ba59-4e78-9b29-ad15d73f4022",
   "metadata": {},
   "outputs": [
    {
     "name": "stdin",
     "output_type": "stream",
     "text": [
      "How many t-shirts are in stock? Please enter an integer:  5\n",
      "How many mugs are in stock? Please enter an integer:  5\n",
      "How many hats are in stock? Please enter an integer:  5\n",
      "How many books are in stock? Please enter an integer:  5\n",
      "How many keychains are in stock? Please enter an integer:  5\n",
      "Please choose the product you want to order from this list: ['t-shirt', 'mug', 'hat', 'book', 'keychain'] hat\n"
     ]
    }
   ],
   "source": [
    "inventory, products_list = initialize_inventory(products)\n",
    "customer_orders_updated = update_inventory(customer_orders, inventory)\n",
    "total_products_ordered = calculate_order_statistics(customer_orders_updated, products)\n",
    "\n",
    "def print_order_statistics(total_products_ordered):\n",
    "    print(f\"The total of ordered products is: {total_products_ordered}\")"
   ]
  },
  {
   "cell_type": "code",
   "execution_count": 233,
   "id": "def2c0f3-406a-4f95-bef5-6b4f1489a099",
   "metadata": {},
   "outputs": [
    {
     "name": "stdout",
     "output_type": "stream",
     "text": [
      "The total of ordered products is: 4\n"
     ]
    }
   ],
   "source": [
    "print_order_statistics(total_products_ordered)"
   ]
  },
  {
   "cell_type": "code",
   "execution_count": null,
   "id": "5af83144-d982-4c1b-87e9-fbeccbfea231",
   "metadata": {},
   "outputs": [],
   "source": [
    "# Exercise 6: Define a function named print_updated_inventory that takes inventory as a parameter.\n",
    "# Inside the function, implement the code for printing the updated inventory."
   ]
  },
  {
   "cell_type": "code",
   "execution_count": 283,
   "id": "92d6d92e-61eb-4a26-bdd0-49753b31122e",
   "metadata": {},
   "outputs": [
    {
     "name": "stdin",
     "output_type": "stream",
     "text": [
      "How many t-shirts are in stock? Please enter an integer:  5\n",
      "How many mugs are in stock? Please enter an integer:  5\n",
      "How many hats are in stock? Please enter an integer:  5\n",
      "How many books are in stock? Please enter an integer:  5\n",
      "How many keychains are in stock? Please enter an integer:  5\n",
      "Please choose the product you want to order from this list: ['t-shirt', 'mug', 'hat', 'book', 'keychain'] book\n"
     ]
    }
   ],
   "source": [
    "inventory, products_list = initialize_inventory(products)\n",
    "customer_orders_updated = update_inventory(customer_orders, inventory)\n",
    "\n",
    "def print_updated_inventory(inventory):\n",
    "    print(f\"The inventory now contains the following products and quantities: {inventory}\")"
   ]
  },
  {
   "cell_type": "code",
   "execution_count": 285,
   "id": "036dfa56-66fc-4a7c-b708-f12432bf9338",
   "metadata": {},
   "outputs": [
    {
     "name": "stdout",
     "output_type": "stream",
     "text": [
      "The inventory now contains the following products and quantities: {'t-shirt': 5, 'mug': 5, 'hat': 5, 'book': 4, 'keychain': 5}\n"
     ]
    }
   ],
   "source": [
    "print_updated_inventory(inventory)"
   ]
  },
  {
   "cell_type": "code",
   "execution_count": null,
   "id": "501fb063-f6ca-43c4-9da5-aab62841e601",
   "metadata": {},
   "outputs": [],
   "source": [
    "# IT DOENST UPDATE; I CANNOT FIND OUT WHY"
   ]
  },
  {
   "cell_type": "code",
   "execution_count": null,
   "id": "2541340d-28b8-4de1-a508-bd96660043ae",
   "metadata": {},
   "outputs": [],
   "source": [
    "# Exercise 7: Call the functions in the appropriate sequence to execute the program and manage customer orders."
   ]
  },
  {
   "cell_type": "code",
   "execution_count": null,
   "id": "581229a5-a835-4f70-af26-1771cb332222",
   "metadata": {},
   "outputs": [],
   "source": [
    "# ..."
   ]
  }
 ],
 "metadata": {
  "kernelspec": {
   "display_name": "Python 3 (ipykernel)",
   "language": "python",
   "name": "python3"
  },
  "language_info": {
   "codemirror_mode": {
    "name": "ipython",
    "version": 3
   },
   "file_extension": ".py",
   "mimetype": "text/x-python",
   "name": "python",
   "nbconvert_exporter": "python",
   "pygments_lexer": "ipython3",
   "version": "3.11.7"
  }
 },
 "nbformat": 4,
 "nbformat_minor": 5
}
