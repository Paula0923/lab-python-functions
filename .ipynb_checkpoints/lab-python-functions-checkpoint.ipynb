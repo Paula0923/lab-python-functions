{
 "cells": [
  {
   "cell_type": "markdown",
   "id": "25d7736c-ba17-4aff-b6bb-66eba20fbf4e",
   "metadata": {},
   "source": [
    "# Lab | Functions"
   ]
  },
  {
   "cell_type": "markdown",
   "id": "0c581062-8967-4d93-b06e-62833222f930",
   "metadata": {
    "tags": []
   },
   "source": [
    "## Exercise: Managing Customer Orders with Functions\n",
    "\n",
    "In the previous exercise, you improved the code for managing customer orders by using loops and flow control. Now, let's take it a step further and refactor the code by introducing functions.\n",
    "\n",
    "Follow the steps below to complete the exercise:\n",
    "\n",
    "1. Define a function named `initialize_inventory` that takes `products` as a parameter. Inside the function, implement the code for initializing the inventory dictionary using a loop and user input.\n",
    "\n",
    "2. Define a function named `get_customer_orders` that takes no parameters. Inside the function, implement the code for prompting the user to enter the product names using a loop. The function should return the `customer_orders` set.\n",
    "\n",
    "3. Define a function named `update_inventory` that takes `customer_orders` and `inventory` as parameters. Inside the function, implement the code for updating the inventory dictionary based on the customer orders.\n",
    "\n",
    "4. Define a function named `calculate_order_statistics` that takes `customer_orders` and `products` as parameters. Inside the function, implement the code for calculating the order statistics (total products ordered, and percentage of unique products ordered). The function should return these values.\n",
    "\n",
    "5. Define a function named `print_order_statistics` that takes `order_statistics` as a parameter. Inside the function, implement the code for printing the order statistics.\n",
    "\n",
    "6. Define a function named `print_updated_inventory` that takes `inventory` as a parameter. Inside the function, implement the code for printing the updated inventory.\n",
    "\n",
    "7. Call the functions in the appropriate sequence to execute the program and manage customer orders.\n",
    "\n",
    "Hints for functions:\n",
    "\n",
    "- Consider the input parameters required for each function and their return values.\n",
    "- Utilize function parameters and return values to transfer data between functions.\n",
    "- Test your functions individually to ensure they work correctly.\n",
    "\n",
    "\n"
   ]
  },
  {
   "cell_type": "code",
   "execution_count": null,
   "id": "fd03dfbe-61ba-41cf-8d9d-e244b0f4d1b0",
   "metadata": {},
   "outputs": [],
   "source": [
    "# so what u do:\n",
    "# erst am ende zusammenführen, wenn alles hintereinander ausgeführt wird\n",
    "# "
   ]
  },
  {
   "cell_type": "code",
   "execution_count": null,
   "id": "6d89c3de-02d2-43e5-b420-f4e6a4a3e70e",
   "metadata": {},
   "outputs": [],
   "source": [
    "# Exercise 1: Define a function named initialize_inventory that takes products as a parameter.\n",
    "# Inside the function, implement the code for initializing the inventory dictionary using a loop and user input."
   ]
  },
  {
   "cell_type": "code",
   "execution_count": 101,
   "id": "c74d1c62-7e53-4070-b7bf-d0149f690083",
   "metadata": {},
   "outputs": [],
   "source": [
    "def initialize_inventory(products):\n",
    "    \n",
    "    inventory = dict()\n",
    "    \n",
    "    for i in products:\n",
    "        quantity = int(input(f\"How many {i}s are in stock? Please enter an integer: \")) \n",
    "        inventory[i] = quantity\n",
    "        \n",
    "    return inventory"
   ]
  },
  {
   "cell_type": "code",
   "execution_count": null,
   "id": "9afb4f37-27ea-4a74-af92-77273d5138a9",
   "metadata": {},
   "outputs": [],
   "source": [
    "# Exercise 2: Define a function named get_customer_orders that takes no parameters.\n",
    "# Inside the function, implement the code for prompting the user to enter the product names using a loop.\n",
    "# The function should return the customer_orders set."
   ]
  },
  {
   "cell_type": "code",
   "execution_count": 103,
   "id": "c6d43db1-df17-412a-b55c-e4c3551d51e3",
   "metadata": {},
   "outputs": [],
   "source": [
    "def get_customer_orders(products, inventory):\n",
    "    \n",
    "    customer_orders = set()\n",
    "     \n",
    "    while len(customer_orders) < 3:\n",
    "        order = input(f\"Input the name of a product you would like to order from this list:\\n{products}\").lower()\n",
    "        if order in inventory:\n",
    "            customer_orders.add(order)\n",
    "            inventory[order] -= 1\n",
    "        else:\n",
    "            print(\"This item is not available\")\n",
    "    return customer_orders"
   ]
  },
  {
   "cell_type": "code",
   "execution_count": null,
   "id": "07c6fe23-b789-49ce-8517-3d7fc8a9ed0b",
   "metadata": {},
   "outputs": [],
   "source": [
    "# Exercise 3: Define a function named update_inventory that takes customer_orders and inventory as parameters.\n",
    "# Inside the function, implement the code for updating the inventory dictionary based on the customer orders."
   ]
  },
  {
   "cell_type": "code",
   "execution_count": 105,
   "id": "fca361f4-d0e4-4888-8ec6-20f5b3ad0d43",
   "metadata": {},
   "outputs": [],
   "source": [
    "def update_inventory(customer_orders, inventory, products):\n",
    "\n",
    "    while True:\n",
    "        another_product = input(\"Would you like to order another product? Please enter 'yes' or 'no': \").lower()\n",
    "        if another_product == \"yes\":\n",
    "            order_new = input(f\"Please choose the product you want to order from this list: {products} \").lower()\n",
    "            if order_new in inventory:\n",
    "                customer_orders.add(order_new)\n",
    "                inventory[order_new] -= 1\n",
    "            elif order_new not in products:\n",
    "                print(f\"I did not understand your input, please choose a product from this list: {products} \")\n",
    "                another_product\n",
    "        elif another_product == \"no\":\n",
    "            print(\"Thank you, your order is now completed\")\n",
    "            break\n",
    "        else:\n",
    "            print(\"I did not understand your input\")\n",
    "            another_product\n",
    "\n",
    "    return inventory"
   ]
  },
  {
   "cell_type": "code",
   "execution_count": null,
   "id": "589c37e8-2853-4886-9853-42e60a47f2c4",
   "metadata": {},
   "outputs": [],
   "source": [
    "# Exercise 4: Define a function named calculate_order_statistics that takes customer_orders and products as parameters.\n",
    "# Inside the function, implement the code for calculating the order statistics (total products ordered, and percentage of unique products ordered).\n",
    "# The function should return these values."
   ]
  },
  {
   "cell_type": "code",
   "execution_count": 107,
   "id": "43580f15-bfd8-451d-bc1c-65f06e590641",
   "metadata": {},
   "outputs": [],
   "source": [
    "def calculate_order_statistics(customer_orders, products):\n",
    "    total_products_ordered = len(customer_orders)\n",
    "    return total_products_ordered"
   ]
  },
  {
   "cell_type": "code",
   "execution_count": null,
   "id": "681ff716-9e04-4559-9237-5a08b8307fd6",
   "metadata": {},
   "outputs": [],
   "source": [
    "# Exercise 5: Define a function named print_order_statistics that takes order_statistics as a parameter.\n",
    "# Inside the function, implement the code for printing the order statistics."
   ]
  },
  {
   "cell_type": "code",
   "execution_count": 109,
   "id": "cf38cf3f-ba59-4e78-9b29-ad15d73f4022",
   "metadata": {},
   "outputs": [],
   "source": [
    "def print_order_statistics(total_products_ordered):\n",
    "    print(f\"The total of ordered products is: {total_products_ordered}\")"
   ]
  },
  {
   "cell_type": "code",
   "execution_count": null,
   "id": "5af83144-d982-4c1b-87e9-fbeccbfea231",
   "metadata": {},
   "outputs": [],
   "source": [
    "# Exercise 6: Define a function named print_updated_inventory that takes inventory as a parameter.\n",
    "# Inside the function, implement the code for printing the updated inventory."
   ]
  },
  {
   "cell_type": "code",
   "execution_count": 111,
   "id": "92d6d92e-61eb-4a26-bdd0-49753b31122e",
   "metadata": {},
   "outputs": [],
   "source": [
    "def print_updated_inventory(inventory):\n",
    "    print(f\"The inventory now contains the following products and quantities: {inventory}\")"
   ]
  },
  {
   "cell_type": "code",
   "execution_count": null,
   "id": "2541340d-28b8-4de1-a508-bd96660043ae",
   "metadata": {},
   "outputs": [],
   "source": [
    "# Exercise 7: Call the functions in the appropriate sequence to execute the program and manage customer orders."
   ]
  },
  {
   "cell_type": "code",
   "execution_count": 119,
   "id": "963fa64d-a114-42b3-9466-07306dff6812",
   "metadata": {},
   "outputs": [],
   "source": [
    "def run_function(products):\n",
    "    \n",
    "    inventory = initialize_inventory(products)\n",
    "\n",
    "    customer_orders = get_customer_orders(products, inventory)\n",
    "\n",
    "    inventory = update_inventory(customer_orders, inventory, products)\n",
    "\n",
    "    total_products_ordered = calculate_order_statistics(customer_orders, products)\n",
    "\n",
    "    print_order_statistics(total_products_ordered)\n",
    "\n",
    "    print_updated_inventory(inventory)\n",
    "\n",
    "    return inventory"
   ]
  },
  {
   "cell_type": "code",
   "execution_count": 117,
   "id": "b317c191-31d3-4e55-a7ea-27721b42e7d6",
   "metadata": {},
   "outputs": [
    {
     "name": "stdin",
     "output_type": "stream",
     "text": [
      "How many t-shirts are in stock? Please enter an integer:  5\n",
      "How many mugs are in stock? Please enter an integer:  5\n",
      "How many hats are in stock? Please enter an integer:  5\n",
      "How many books are in stock? Please enter an integer:  5\n",
      "How many keychains are in stock? Please enter an integer:  5\n",
      "Input the name of a product you would like to order from this list:\n",
      "['t-shirt', 'mug', 'hat', 'book', 'keychain'] t-shirt\n",
      "Input the name of a product you would like to order from this list:\n",
      "['t-shirt', 'mug', 'hat', 'book', 'keychain'] mug\n",
      "Input the name of a product you would like to order from this list:\n",
      "['t-shirt', 'mug', 'hat', 'book', 'keychain'] hut\n"
     ]
    },
    {
     "name": "stdout",
     "output_type": "stream",
     "text": [
      "This item is not available\n"
     ]
    },
    {
     "name": "stdin",
     "output_type": "stream",
     "text": [
      "Input the name of a product you would like to order from this list:\n",
      "['t-shirt', 'mug', 'hat', 'book', 'keychain'] hat\n",
      "Would you like to order another product? Please enter 'yes' or 'no':  yes\n",
      "Please choose the product you want to order from this list: ['t-shirt', 'mug', 'hat', 'book', 'keychain']  watch\n"
     ]
    },
    {
     "name": "stdout",
     "output_type": "stream",
     "text": [
      "I did not understand your input, please choose a product from this list: ['t-shirt', 'mug', 'hat', 'book', 'keychain'] \n"
     ]
    },
    {
     "name": "stdin",
     "output_type": "stream",
     "text": [
      "Would you like to order another product? Please enter 'yes' or 'no':  book\n"
     ]
    },
    {
     "name": "stdout",
     "output_type": "stream",
     "text": [
      "I did not understand your input\n"
     ]
    },
    {
     "name": "stdin",
     "output_type": "stream",
     "text": [
      "Would you like to order another product? Please enter 'yes' or 'no':  yes\n",
      "Please choose the product you want to order from this list: ['t-shirt', 'mug', 'hat', 'book', 'keychain']  hat\n",
      "Would you like to order another product? Please enter 'yes' or 'no':  YES\n",
      "Please choose the product you want to order from this list: ['t-shirt', 'mug', 'hat', 'book', 'keychain']  mug\n",
      "Would you like to order another product? Please enter 'yes' or 'no':  nooo\n"
     ]
    },
    {
     "name": "stdout",
     "output_type": "stream",
     "text": [
      "I did not understand your input\n"
     ]
    },
    {
     "name": "stdin",
     "output_type": "stream",
     "text": [
      "Would you like to order another product? Please enter 'yes' or 'no':  NO\n"
     ]
    },
    {
     "name": "stdout",
     "output_type": "stream",
     "text": [
      "Thank you, your order is now completed\n",
      "The total of ordered products is: 3\n",
      "The inventory now contains the following products and quantities: {'t-shirt': 4, 'mug': 3, 'hat': 3, 'book': 5, 'keychain': 5}\n"
     ]
    },
    {
     "data": {
      "text/plain": [
       "{'t-shirt': 4, 'mug': 3, 'hat': 3, 'book': 5, 'keychain': 5}"
      ]
     },
     "execution_count": 117,
     "metadata": {},
     "output_type": "execute_result"
    }
   ],
   "source": [
    "run_function([\"t-shirt\", \"mug\", \"hat\", \"book\", \"keychain\"])"
   ]
  }
 ],
 "metadata": {
  "kernelspec": {
   "display_name": "Python 3 (ipykernel)",
   "language": "python",
   "name": "python3"
  },
  "language_info": {
   "codemirror_mode": {
    "name": "ipython",
    "version": 3
   },
   "file_extension": ".py",
   "mimetype": "text/x-python",
   "name": "python",
   "nbconvert_exporter": "python",
   "pygments_lexer": "ipython3",
   "version": "3.11.7"
  }
 },
 "nbformat": 4,
 "nbformat_minor": 5
}
